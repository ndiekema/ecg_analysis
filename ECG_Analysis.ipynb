{
  "nbformat": 4,
  "nbformat_minor": 0,
  "metadata": {
    "colab": {
      "name": "ECG_Analysis.ipynb",
      "provenance": [],
      "collapsed_sections": [],
      "include_colab_link": true
    },
    "kernelspec": {
      "name": "python3",
      "display_name": "Python 3"
    }
  },
  "cells": [
    {
      "cell_type": "markdown",
      "metadata": {
        "id": "view-in-github",
        "colab_type": "text"
      },
      "source": [
        "<a href=\"https://colab.research.google.com/github/ndiekema/ecg_analysis/blob/main/ECG_Analysis.ipynb\" target=\"_parent\"><img src=\"https://colab.research.google.com/assets/colab-badge.svg\" alt=\"Open In Colab\"/></a>"
      ]
    },
    {
      "cell_type": "markdown",
      "metadata": {
        "id": "yDMUhQR6ZFBO"
      },
      "source": [
        "# **ECG Medical Diagnosis Software**\n",
        "\n",
        "\n",
        "---\n",
        "\n",
        "\n",
        "Cal Poly Senior Project - 2020-2021   \n",
        "Nathan Diekema & Hannah Chookaszian"
      ]
    },
    {
      "cell_type": "markdown",
      "metadata": {
        "id": "McxwYz0TpZRg"
      },
      "source": [
        "Links to code that could be helpful:\n",
        "\n",
        "\n",
        "*   https://github.com/JackAndCole/ECG-Classification-Using-CNN-and-CWT\n",
        "*   \n",
        "\n"
      ]
    },
    {
      "cell_type": "code",
      "metadata": {
        "colab": {
          "base_uri": "https://localhost:8080/"
        },
        "id": "RhCnQrdp8uGq",
        "outputId": "9647e236-1639-416f-fa57-4d3d054559ca"
      },
      "source": [
        "pip install wfdb"
      ],
      "execution_count": null,
      "outputs": [
        {
          "output_type": "stream",
          "text": [
            "Collecting wfdb\n",
            "\u001b[?25l  Downloading https://files.pythonhosted.org/packages/ee/28/21d6924727ff45c1ab0182d384e470fa5d1e985349528c4b807587b5da59/wfdb-3.4.0-py3-none-any.whl (137kB)\n",
            "\r\u001b[K     |██▍                             | 10kB 13.6MB/s eta 0:00:01\r\u001b[K     |████▊                           | 20kB 18.9MB/s eta 0:00:01\r\u001b[K     |███████▏                        | 30kB 22.4MB/s eta 0:00:01\r\u001b[K     |█████████▌                      | 40kB 24.6MB/s eta 0:00:01\r\u001b[K     |████████████                    | 51kB 21.7MB/s eta 0:00:01\r\u001b[K     |██████████████▎                 | 61kB 23.3MB/s eta 0:00:01\r\u001b[K     |████████████████▊               | 71kB 22.2MB/s eta 0:00:01\r\u001b[K     |███████████████████             | 81kB 22.1MB/s eta 0:00:01\r\u001b[K     |█████████████████████▍          | 92kB 20.8MB/s eta 0:00:01\r\u001b[K     |███████████████████████▉        | 102kB 20.6MB/s eta 0:00:01\r\u001b[K     |██████████████████████████▏     | 112kB 20.6MB/s eta 0:00:01\r\u001b[K     |████████████████████████████▋   | 122kB 20.6MB/s eta 0:00:01\r\u001b[K     |███████████████████████████████ | 133kB 20.6MB/s eta 0:00:01\r\u001b[K     |████████████████████████████████| 143kB 20.6MB/s \n",
            "\u001b[?25hRequirement already satisfied: scipy>=0.17.0 in /usr/local/lib/python3.7/dist-packages (from wfdb) (1.4.1)\n",
            "Collecting threadpoolctl>=1.0.0\n",
            "  Downloading https://files.pythonhosted.org/packages/f7/12/ec3f2e203afa394a149911729357aa48affc59c20e2c1c8297a60f33f133/threadpoolctl-2.1.0-py3-none-any.whl\n",
            "Requirement already satisfied: pytz>=2017.2 in /usr/local/lib/python3.7/dist-packages (from wfdb) (2018.9)\n",
            "Requirement already satisfied: python-dateutil>=2.4.2 in /usr/local/lib/python3.7/dist-packages (from wfdb) (2.8.1)\n",
            "Requirement already satisfied: requests>=2.8.1 in /usr/local/lib/python3.7/dist-packages (from wfdb) (2.23.0)\n",
            "Requirement already satisfied: cycler>=0.10.0 in /usr/local/lib/python3.7/dist-packages (from wfdb) (0.10.0)\n",
            "Requirement already satisfied: chardet>=3.0.0 in /usr/local/lib/python3.7/dist-packages (from wfdb) (3.0.4)\n",
            "Requirement already satisfied: scikit-learn>=0.18 in /usr/local/lib/python3.7/dist-packages (from wfdb) (0.22.2.post1)\n",
            "Requirement already satisfied: idna>=2.2 in /usr/local/lib/python3.7/dist-packages (from wfdb) (2.10)\n",
            "Requirement already satisfied: joblib>=0.11 in /usr/local/lib/python3.7/dist-packages (from wfdb) (1.0.1)\n",
            "Requirement already satisfied: pandas>=0.17.0 in /usr/local/lib/python3.7/dist-packages (from wfdb) (1.1.5)\n",
            "Requirement already satisfied: urllib3>=1.22 in /usr/local/lib/python3.7/dist-packages (from wfdb) (1.24.3)\n",
            "Requirement already satisfied: kiwisolver>=1.1.0 in /usr/local/lib/python3.7/dist-packages (from wfdb) (1.3.1)\n",
            "Requirement already satisfied: pyparsing>=2.0.4 in /usr/local/lib/python3.7/dist-packages (from wfdb) (2.4.7)\n",
            "Requirement already satisfied: matplotlib>=2.0.0 in /usr/local/lib/python3.7/dist-packages (from wfdb) (3.2.2)\n",
            "Requirement already satisfied: numpy>=1.10.1 in /usr/local/lib/python3.7/dist-packages (from wfdb) (1.19.5)\n",
            "Requirement already satisfied: certifi>=2016.8.2 in /usr/local/lib/python3.7/dist-packages (from wfdb) (2021.5.30)\n",
            "Requirement already satisfied: six>=1.5 in /usr/local/lib/python3.7/dist-packages (from python-dateutil>=2.4.2->wfdb) (1.15.0)\n",
            "Installing collected packages: threadpoolctl, wfdb\n",
            "Successfully installed threadpoolctl-2.1.0 wfdb-3.4.0\n"
          ],
          "name": "stdout"
        }
      ]
    },
    {
      "cell_type": "code",
      "metadata": {
        "id": "e5QndFKfY9nV"
      },
      "source": [
        "import os\n",
        "import matplotlib.pyplot as plt\n",
        "import tensorflow as tf\n",
        "import scipy\n",
        "import scipy.signal\n",
        "import numpy as np\n",
        "import pywt\n",
        "from sklearn.metrics import classification_report, confusion_matrix\n",
        "import wfdb\n",
        "from tqdm import tqdm\n",
        "plt.rcParams[\"figure.figsize\"] = (20,4)"
      ],
      "execution_count": null,
      "outputs": []
    },
    {
      "cell_type": "markdown",
      "metadata": {
        "id": "kCaN1F_kpvk9"
      },
      "source": [
        "**Load Data**\n"
      ]
    },
    {
      "cell_type": "code",
      "metadata": {
        "colab": {
          "base_uri": "https://localhost:8080/"
        },
        "id": "hIDaqrwUE240",
        "outputId": "50111dfe-7876-4ea9-f42a-af6fa333b0d3"
      },
      "source": [
        "wfdb.dl_database('mitdb', 'data')"
      ],
      "execution_count": null,
      "outputs": [
        {
          "output_type": "stream",
          "text": [
            "Generating record list for: 100\n",
            "Generating record list for: 101\n",
            "Generating record list for: 102\n",
            "Generating record list for: 103\n",
            "Generating record list for: 104\n",
            "Generating record list for: 105\n",
            "Generating record list for: 106\n",
            "Generating record list for: 107\n",
            "Generating record list for: 108\n",
            "Generating record list for: 109\n",
            "Generating record list for: 111\n",
            "Generating record list for: 112\n",
            "Generating record list for: 113\n",
            "Generating record list for: 114\n",
            "Generating record list for: 115\n",
            "Generating record list for: 116\n",
            "Generating record list for: 117\n",
            "Generating record list for: 118\n",
            "Generating record list for: 119\n",
            "Generating record list for: 121\n",
            "Generating record list for: 122\n",
            "Generating record list for: 123\n",
            "Generating record list for: 124\n",
            "Generating record list for: 200\n",
            "Generating record list for: 201\n",
            "Generating record list for: 202\n",
            "Generating record list for: 203\n",
            "Generating record list for: 205\n",
            "Generating record list for: 207\n",
            "Generating record list for: 208\n",
            "Generating record list for: 209\n",
            "Generating record list for: 210\n",
            "Generating record list for: 212\n",
            "Generating record list for: 213\n",
            "Generating record list for: 214\n",
            "Generating record list for: 215\n",
            "Generating record list for: 217\n",
            "Generating record list for: 219\n",
            "Generating record list for: 220\n",
            "Generating record list for: 221\n",
            "Generating record list for: 222\n",
            "Generating record list for: 223\n",
            "Generating record list for: 228\n",
            "Generating record list for: 230\n",
            "Generating record list for: 231\n",
            "Generating record list for: 232\n",
            "Generating record list for: 233\n",
            "Generating record list for: 234\n",
            "Generating list of all files for: 100\n",
            "Generating list of all files for: 101\n",
            "Generating list of all files for: 102\n",
            "Generating list of all files for: 103\n",
            "Generating list of all files for: 104\n",
            "Generating list of all files for: 105\n",
            "Generating list of all files for: 106\n",
            "Generating list of all files for: 107\n",
            "Generating list of all files for: 108\n",
            "Generating list of all files for: 109\n",
            "Generating list of all files for: 111\n",
            "Generating list of all files for: 112\n",
            "Generating list of all files for: 113\n",
            "Generating list of all files for: 114\n",
            "Generating list of all files for: 115\n",
            "Generating list of all files for: 116\n",
            "Generating list of all files for: 117\n",
            "Generating list of all files for: 118\n",
            "Generating list of all files for: 119\n",
            "Generating list of all files for: 121\n",
            "Generating list of all files for: 122\n",
            "Generating list of all files for: 123\n",
            "Generating list of all files for: 124\n",
            "Generating list of all files for: 200\n",
            "Generating list of all files for: 201\n",
            "Generating list of all files for: 202\n",
            "Generating list of all files for: 203\n",
            "Generating list of all files for: 205\n",
            "Generating list of all files for: 207\n",
            "Generating list of all files for: 208\n",
            "Generating list of all files for: 209\n",
            "Generating list of all files for: 210\n",
            "Generating list of all files for: 212\n",
            "Generating list of all files for: 213\n",
            "Generating list of all files for: 214\n",
            "Generating list of all files for: 215\n",
            "Generating list of all files for: 217\n",
            "Generating list of all files for: 219\n",
            "Generating list of all files for: 220\n",
            "Generating list of all files for: 221\n",
            "Generating list of all files for: 222\n",
            "Generating list of all files for: 223\n",
            "Generating list of all files for: 228\n",
            "Generating list of all files for: 230\n",
            "Generating list of all files for: 231\n",
            "Generating list of all files for: 232\n",
            "Generating list of all files for: 233\n",
            "Generating list of all files for: 234\n",
            "Created local base download directory: data\n",
            "Downloading files...\n",
            "Finished downloading files\n"
          ],
          "name": "stdout"
        }
      ]
    },
    {
      "cell_type": "code",
      "metadata": {
        "colab": {
          "base_uri": "https://localhost:8080/"
        },
        "id": "PSgZYP8smfKa",
        "outputId": "31849a23-0a19-4f64-831d-8d6d468762a8"
      },
      "source": [
        "!zip -r /content/mitdb.zip /content/data"
      ],
      "execution_count": null,
      "outputs": [
        {
          "output_type": "stream",
          "text": [
            "  adding: content/data/ (stored 0%)\n",
            "  adding: content/data/115.hea (deflated 28%)\n",
            "  adding: content/data/220.dat (deflated 40%)\n",
            "  adding: content/data/205.dat (deflated 43%)\n",
            "  adding: content/data/232.dat (deflated 34%)\n",
            "  adding: content/data/212.dat (deflated 23%)\n",
            "  adding: content/data/201.dat (deflated 42%)\n",
            "  adding: content/data/231.hea (deflated 30%)\n",
            "  adding: content/data/104.atr (deflated 40%)\n",
            "  adding: content/data/103.hea (deflated 23%)\n",
            "  adding: content/data/122.hea (deflated 26%)\n",
            "  adding: content/data/116.hea (deflated 26%)\n",
            "  adding: content/data/112.hea (deflated 26%)\n",
            "  adding: content/data/104.dat (deflated 30%)\n",
            "  adding: content/data/200.dat (deflated 28%)\n",
            "  adding: content/data/112.atr (deflated 56%)\n",
            "  adding: content/data/101.hea (deflated 29%)\n",
            "  adding: content/data/207.atr (deflated 37%)\n",
            "  adding: content/data/228.dat (deflated 24%)\n",
            "  adding: content/data/208.dat (deflated 25%)\n",
            "  adding: content/data/215.hea (deflated 28%)\n",
            "  adding: content/data/221.dat (deflated 32%)\n",
            "  adding: content/data/230.atr (deflated 46%)\n",
            "  adding: content/data/100.hea (deflated 28%)\n",
            "  adding: content/data/214.atr (deflated 35%)\n",
            "  adding: content/data/200.hea (deflated 32%)\n",
            "  adding: content/data/121.atr (deflated 45%)\n",
            "  adding: content/data/217.hea (deflated 25%)\n",
            "  adding: content/data/217.dat (deflated 23%)\n",
            "  adding: content/data/220.atr (deflated 45%)\n",
            "  adding: content/data/222.atr (deflated 35%)\n",
            "  adding: content/data/213.dat (deflated 17%)\n",
            "  adding: content/data/202.dat (deflated 35%)\n",
            "  adding: content/data/215.atr (deflated 47%)\n",
            "  adding: content/data/100.dat (deflated 41%)\n",
            "  adding: content/data/207.hea (deflated 39%)\n",
            "  adding: content/data/230.dat (deflated 29%)\n",
            "  adding: content/data/217.atr (deflated 39%)\n",
            "  adding: content/data/205.hea (deflated 28%)\n",
            "  adding: content/data/103.atr (deflated 46%)\n",
            "  adding: content/data/107.atr (deflated 52%)\n",
            "  adding: content/data/230.hea (deflated 29%)\n",
            "  adding: content/data/219.atr (deflated 31%)\n",
            "  adding: content/data/114.atr (deflated 39%)\n",
            "  adding: content/data/115.dat (deflated 34%)\n",
            "  adding: content/data/114.hea (deflated 26%)\n",
            "  adding: content/data/122.atr (deflated 50%)\n",
            "  adding: content/data/102.dat (deflated 24%)\n",
            "  adding: content/data/233.dat (deflated 21%)\n",
            "  adding: content/data/115.atr (deflated 39%)\n",
            "  adding: content/data/123.atr (deflated 35%)\n",
            "  adding: content/data/105.hea (deflated 28%)\n",
            "  adding: content/data/207.dat (deflated 26%)\n",
            "  adding: content/data/233.hea (deflated 25%)\n",
            "  adding: content/data/108.hea (deflated 30%)\n",
            "  adding: content/data/205.atr (deflated 52%)\n",
            "  adding: content/data/108.atr (deflated 34%)\n",
            "  adding: content/data/223.atr (deflated 39%)\n",
            "  adding: content/data/209.hea (deflated 27%)\n",
            "  adding: content/data/119.dat (deflated 28%)\n",
            "  adding: content/data/105.atr (deflated 44%)\n",
            "  adding: content/data/102.hea (deflated 29%)\n",
            "  adding: content/data/215.dat (deflated 28%)\n",
            "  adding: content/data/208.atr (deflated 44%)\n",
            "  adding: content/data/105.dat (deflated 27%)\n",
            "  adding: content/data/213.atr (deflated 50%)\n",
            "  adding: content/data/106.dat (deflated 28%)\n",
            "  adding: content/data/123.dat (deflated 35%)\n",
            "  adding: content/data/214.hea (deflated 29%)\n",
            "  adding: content/data/234.atr (deflated 56%)\n",
            "  adding: content/data/200.atr (deflated 44%)\n",
            "  adding: content/data/203.dat (deflated 21%)\n",
            "  adding: content/data/111.hea (deflated 30%)\n",
            "  adding: content/data/219.hea (deflated 29%)\n",
            "  adding: content/data/109.hea (deflated 27%)\n",
            "  adding: content/data/106.atr (deflated 39%)\n",
            "  adding: content/data/114.dat (deflated 30%)\n",
            "  adding: content/data/102.atr (deflated 49%)\n",
            "  adding: content/data/203.atr (deflated 30%)\n",
            "  adding: content/data/101.atr (deflated 42%)\n",
            "  adding: content/data/234.dat (deflated 32%)\n",
            "  adding: content/data/118.dat (deflated 23%)\n",
            "  adding: content/data/112.dat (deflated 36%)\n",
            "  adding: content/data/228.atr (deflated 37%)\n",
            "  adding: content/data/109.dat (deflated 27%)\n",
            "  adding: content/data/121.dat (deflated 32%)\n",
            "  adding: content/data/111.atr (deflated 48%)\n",
            "  adding: content/data/209.dat (deflated 31%)\n",
            "  adding: content/data/210.atr (deflated 33%)\n",
            "  adding: content/data/212.atr (deflated 44%)\n",
            "  adding: content/data/213.hea (deflated 34%)\n",
            "  adding: content/data/123.hea (deflated 25%)\n",
            "  adding: content/data/232.atr (deflated 38%)\n",
            "  adding: content/data/111.dat (deflated 26%)\n",
            "  adding: content/data/212.hea (deflated 29%)\n",
            "  adding: content/data/124.atr (deflated 38%)\n",
            "  adding: content/data/202.atr (deflated 34%)\n",
            "  adding: content/data/202.hea (deflated 29%)\n",
            "  adding: content/data/101.dat (deflated 41%)\n",
            "  adding: content/data/210.hea (deflated 26%)\n",
            "  adding: content/data/222.hea (deflated 30%)\n",
            "  adding: content/data/214.dat (deflated 24%)\n",
            "  adding: content/data/210.dat (deflated 35%)\n",
            "  adding: content/data/223.dat (deflated 28%)\n",
            "  adding: content/data/119.hea (deflated 23%)\n",
            "  adding: content/data/124.dat (deflated 29%)\n",
            "  adding: content/data/107.dat (deflated 16%)\n",
            "  adding: content/data/117.dat (deflated 32%)\n",
            "  adding: content/data/221.hea (deflated 28%)\n",
            "  adding: content/data/116.dat (deflated 26%)\n",
            "  adding: content/data/117.hea (deflated 29%)\n",
            "  adding: content/data/209.atr (deflated 44%)\n",
            "  adding: content/data/231.atr (deflated 63%)\n",
            "  adding: content/data/223.hea (deflated 27%)\n",
            "  adding: content/data/106.hea (deflated 25%)\n",
            "  adding: content/data/201.hea (deflated 26%)\n",
            "  adding: content/data/113.dat (deflated 29%)\n",
            "  adding: content/data/234.hea (deflated 26%)\n",
            "  adding: content/data/113.atr (deflated 37%)\n",
            "  adding: content/data/117.atr (deflated 47%)\n",
            "  adding: content/data/219.dat (deflated 24%)\n",
            "  adding: content/data/100.atr (deflated 47%)\n",
            "  adding: content/data/121.hea (deflated 25%)\n",
            "  adding: content/data/232.hea (deflated 32%)\n",
            "  adding: content/data/228.hea (deflated 30%)\n",
            "  adding: content/data/104.hea (deflated 34%)\n",
            "  adding: content/data/231.dat (deflated 34%)\n",
            "  adding: content/data/103.dat (deflated 31%)\n",
            "  adding: content/data/109.atr (deflated 48%)\n",
            "  adding: content/data/122.dat (deflated 29%)\n",
            "  adding: content/data/233.atr (deflated 41%)\n",
            "  adding: content/data/220.hea (deflated 27%)\n",
            "  adding: content/data/201.atr (deflated 26%)\n",
            "  adding: content/data/203.hea (deflated 34%)\n",
            "  adding: content/data/116.atr (deflated 51%)\n",
            "  adding: content/data/208.hea (deflated 33%)\n",
            "  adding: content/data/107.hea (deflated 26%)\n",
            "  adding: content/data/119.atr (deflated 42%)\n",
            "  adding: content/data/222.dat (deflated 34%)\n",
            "  adding: content/data/113.hea (deflated 29%)\n",
            "  adding: content/data/118.atr (deflated 43%)\n",
            "  adding: content/data/108.dat (deflated 23%)\n",
            "  adding: content/data/124.hea (deflated 26%)\n",
            "  adding: content/data/118.hea (deflated 23%)\n",
            "  adding: content/data/221.atr (deflated 36%)\n"
          ],
          "name": "stdout"
        }
      ]
    },
    {
      "cell_type": "markdown",
      "metadata": {
        "id": "mIdJWzbm98cb"
      },
      "source": [
        "# **Preprocessing**"
      ]
    },
    {
      "cell_type": "code",
      "metadata": {
        "id": "AZpDzU8qpt72",
        "colab": {
          "base_uri": "https://localhost:8080/",
          "height": 591
        },
        "outputId": "c96379fe-9dd1-4b3a-ae7e-35fa8e7f0c77"
      },
      "source": [
        "import scipy.signal\n",
        "\n",
        "sampling_rate = 360 # MIT-BIH ECG records are captured at 360Hz\n",
        "raw_sig101 = wfdb.rdrecord('data/101', channels = [0], sampto = sampling_rate*30)\n",
        "\n",
        "plt.plot(raw_sig101.p_signal[:,0])\n",
        "plt.title('Signal Before Preprocessing')\n",
        "plt.xlabel('Sample')\n",
        "plt.ylabel('Amplitude (V)')\n",
        "\n",
        "# Eliminate baseline wander\n",
        "b, a = scipy.signal.butter(N=2, Wn=0.5, btype='highpass', analog=False, output='ba', fs=sampling_rate)\n",
        "output1 = scipy.signal.filtfilt(b, a, raw_sig101.p_signal[:,0])\n",
        "\n",
        "# Reduce Powerline Interference \n",
        "# Notch filter centered at 60 Hz\n",
        "plt.figure()\n",
        "b2, a2 = scipy.signal.iirnotch(w0=60.0, Q=30.0, fs=360.0)\n",
        "output2 = scipy.signal.filtfilt(b2, a2, output1)\n",
        "plt.plot(output2, color='orange')\n",
        "plt.title('Signal After Preprocessing')\n",
        "plt.xlabel('Sample')\n",
        "plt.ylabel('Amplitude (V)')"
      ],
      "execution_count": null,
      "outputs": [
        {
          "output_type": "execute_result",
          "data": {
            "text/plain": [
              "Text(0, 0.5, 'Amplitude (V)')"
            ]
          },
          "metadata": {
            "tags": []
          },
          "execution_count": 33
        },
        {
          "output_type": "display_data",
          "data": {
            "image/png": "[encoded data removed]",
            "text/plain": [
              "<Figure size 1440x288 with 1 Axes>"
            ]
          },
          "metadata": {
            "tags": [],
            "needs_background": "light"
          }
        },
        {
          "output_type": "display_data",
          "data": {
            "image/png": "[encoded data removed]",
            "text/plain": [
              "<Figure size 1440x288 with 1 Axes>"
            ]
          },
          "metadata": {
            "tags": [],
            "needs_background": "light"
          }
        }
      ]
    },
    {
      "cell_type": "code",
      "metadata": {
        "id": "mxUMJhVYKu1p"
      },
      "source": [
        "# Declare struct to hold important signal data\n",
        "class Signal:\n",
        "  def __init__(self, record, signal, r_peaks, labels):\n",
        "    self.record = record # Record number\n",
        "    self.signal = signal\n",
        "    self.r_peaks = r_peaks\n",
        "    self.labels = labels "
      ],
      "execution_count": null,
      "outputs": []
    },
    {
      "cell_type": "code",
      "metadata": {
        "id": "3byjox1_f_vY"
      },
      "source": [
        "\"\"\"\n",
        "The data is provided by \n",
        "https://physionet.org/physiobank/database/html/mitdbdir/mitdbdir.htm\n",
        "The recordings were digitized at 360 samples per second per channel with 11-bit resolution over a 10 mV range.\n",
        "Two or more cardiologists independently annotated each record; disagreements were resolved to obtain the computer-readable\n",
        "reference annotations for each beat (approximately 110,000 annotations in all) included with the database.\n",
        "    Code\t\tDescription\n",
        "    N\t\tNormal beat (displayed as . by the PhysioBank ATM, LightWAVE, pschart, and psfd)\n",
        "    L\t\tLeft bundle branch block beat\n",
        "    R\t\tRight bundle branch block beat\n",
        "    B\t\tBundle branch block beat (unspecified)\n",
        "    A\t\tAtrial premature beat\n",
        "    a\t\tAberrated atrial premature beat\n",
        "    J\t\tNodal (junctional) premature beat\n",
        "    S\t\tSupraventricular premature or ectopic beat (atrial or nodal)\n",
        "    V\t\tPremature ventricular contraction\n",
        "    r\t\tR-on-T premature ventricular contraction\n",
        "    F\t\tFusion of ventricular and normal beat\n",
        "    e\t\tAtrial escape beat\n",
        "    j\t\tNodal (junctional) escape beat\n",
        "    n\t\tSupraventricular escape beat (atrial or nodal)\n",
        "    E\t\tVentricular escape beat\n",
        "    /\t\tPaced beat\n",
        "    f\t\tFusion of paced and normal beat\n",
        "    Q\t\tUnclassifiable beat\n",
        "    ?\t\tBeat not classified during learning\n",
        "\"\"\"\n",
        "\n",
        "# These are the classes that we wish to remove in the preprocessing stage\n",
        "# since they do not refer to a particular beat type.\n",
        "invalid_labels = ['|', # Isolated QRS-like artifact\n",
        "                  '~', # Change in signal quality\n",
        "                  '!', # Ventricular flutter wave\n",
        "                  '+', # Rhythm change\n",
        "                  '[', # Start of ventricular flutter/fibrillation\n",
        "                  ']', # End of ventricular flutter/fibrillation\n",
        "                  '\"', # Comment annotation\n",
        "                  'x'  # Non-conducted P-wave (blocked APC)\n",
        "                  ]\n",
        "\n",
        "# These are the beat types our program will be classifying\n",
        "valid_classes = ['N', # Normal beat \n",
        "                 'L', #\tLeft bundle branch block beat\n",
        "                 'R', # Right bundle branch block beat\n",
        "                 'V', # Premature ventricular contraction\n",
        "                 'A', # Atrial premature beat\n",
        "                 '/', # Paced Beat\n",
        "                 ]\n"
      ],
      "execution_count": null,
      "outputs": []
    },
    {
      "cell_type": "code",
      "metadata": {
        "id": "tV-kGW5Fcllj"
      },
      "source": [
        "# Adapted from: https://github.com/JackAndCole/ECG-Classification-Using-CNN-and-CWT/blob/master/preprocessing.py\n",
        "def process_record(record):\n",
        "  \"\"\"\n",
        "    Input: An integer representing one of the ECG records from the MIT-BIH \n",
        "      database\n",
        "    Output: A Signal object with the record number, signal data, r_peak data,\n",
        "      and relevant annotations.\n",
        "    Description: This function is responsible for the initial preprocessing of\n",
        "      the ECG signals. It handles the denoising of the input signal by applying\n",
        "      a butterworth filter (to eliminate baseline wander) and a notch filter \n",
        "      (to mitigate powerline interference). It also filters out any unwanted \n",
        "      annotations and adjusts the R-peak locations to ensure maximum accuracy.\n",
        "  \"\"\"\n",
        "  raw_signal = wfdb.rdrecord(f'data/{record}', channels = [0]).p_signal[:,0] # MLII signal only\n",
        "  annotation = wfdb.rdann(f'data/{record}', extension='atr')\n",
        "\n",
        "  r_peaks = annotation.sample\n",
        "  labels = np.array(annotation.symbol)\n",
        "\n",
        "  # Eliminate baseline wander\n",
        "  # Butterworth high-pass filter with an fc=0.5Hz\n",
        "  b, a = scipy.signal.butter(N=2, Wn=0.5, btype='highpass', \n",
        "                             analog=False, output='ba', fs=sampling_rate)\n",
        "  signal = scipy.signal.filtfilt(b, a, raw_signal)\n",
        "\n",
        "  # Med filter\n",
        "  # baseline = scipy.signal.medfilt(raw_signal, int(0.2 * sampling_rate - 1))\n",
        "  # baseline = scipy.signal.medfilt(baseline, int(0.6 * sampling_rate - 1))\n",
        "  # signal = raw_signal - baseline\n",
        "\n",
        "\n",
        "  # Reduce Powerline Interference \n",
        "  # Notch filter centered at 60 Hz\n",
        "  b, a = scipy.signal.iirnotch(w0=60.0, Q=30.0, fs=360.0)\n",
        "  signal = scipy.signal.filtfilt(b, a, signal)\n",
        "\n",
        "  # Remove unwanted beats\n",
        "  indices = [i for (i, label) in enumerate(labels) if label not in invalid_labels]\n",
        "  r_peaks, labels = r_peaks[indices], labels[indices]\n",
        "\n",
        "  # Align the signals r_peaks to maximize accuracy\n",
        "  aligned_peaks = []\n",
        "  for r_peak in r_peaks:\n",
        "    r_left = np.maximum(r_peak - int(.05 * sampling_rate), 0)\n",
        "    r_right = np.minimum(r_peak + int(.05 * sampling_rate), len(signal))\n",
        "    aligned_peaks.append(r_left + np.argmax(signal[r_left:r_right]))\n",
        "\n",
        "  r_peaks = np.array(aligned_peaks, dtype=\"int\")\n",
        "\n",
        "  # Normalize signal amplitudes across all patients\n",
        "  # Note: Could also try using sklearn.preprocessing.StandardScaler\n",
        "  signal = signal / np.mean(signal[r_peaks])\n",
        "  \n",
        "  # Return an object with all relevant signal data & annotations\n",
        "  return Signal(record, signal, r_peaks, labels)"
      ],
      "execution_count": null,
      "outputs": []
    },
    {
      "cell_type": "code",
      "metadata": {
        "colab": {
          "base_uri": "https://localhost:8080/"
        },
        "cellView": "form",
        "id": "CJYcY_vwscsp",
        "outputId": "28d28654-e099-4561-ebb4-8e054dcb48ca"
      },
      "source": [
        "#@title Default title text\n",
        "split = True #@param {type:\"boolean\"}\n",
        "\n",
        "print(split)"
      ],
      "execution_count": null,
      "outputs": [
        {
          "output_type": "stream",
          "text": [
            "True\n"
          ],
          "name": "stdout"
        }
      ]
    },
    {
      "cell_type": "code",
      "metadata": {
        "id": "f9afVJJbK8jE"
      },
      "source": [
        "import pickle\n",
        "import scipy.signal\n",
        "\n",
        "train_ds = []\n",
        "test_ds = []\n",
        "\n",
        "if split == False:\n",
        "\n",
        "  all_records = [100, 103, 105, 107, 111, 113, 117, 121, 123, 200, 202, 210, \n",
        "                212, 213, 214, 219, 221, 222, 228, 231, 232, 233, 234,\n",
        "                101, 102, 106, 108, 109, 112, 114, 115, 116, 118, 119, 122, \n",
        "                124, 201, 203, 205, 207, 208, 209, 215, 220, 223, 230]\n",
        "\n",
        "  for record_num in all_records:\n",
        "    signal_data = process_record(record_num)\n",
        "    train_ds.append(signal_data)\n",
        "\n",
        "# Optional - Store data in gdrive\n",
        "# save_path = \"/content/drive/ECG_Classifier/preprocessed_mitdb.p\"\n",
        "# pickle.dump((train_ds, test_ds), open(save_path, \"wb\"))"
      ],
      "execution_count": null,
      "outputs": []
    },
    {
      "cell_type": "code",
      "metadata": {
        "id": "Fv_qyY-aq569"
      },
      "source": [
        "if split == True:\n",
        "  train_records = [101, 102, 106, 108, 109, 112, 114, 115, 116, 118, 119, 122, \n",
        "              124, 201, 203, 205, 207, 208, 209, 215, 220, 223, 230]\n",
        "\n",
        "  test_records = [100, 103, 105, 107, 111, 113, 117, 121, 123, 200, 202, 210, \n",
        "            212, 213, 214, 219, 221, 222, 228, 231, 232, 233, 234]\n",
        "            \n",
        "  for record_num in train_records:\n",
        "    signal_data = process_record(record_num)\n",
        "    train_ds.append(signal_data)\n",
        "\n",
        "  for record_num in test_records:\n",
        "    signal_data = process_record(record_num)\n",
        "    test_ds.append(signal_data)\n"
      ],
      "execution_count": null,
      "outputs": []
    },
    {
      "cell_type": "code",
      "metadata": {
        "id": "r7eQujPPaN-0",
        "colab": {
          "base_uri": "https://localhost:8080/",
          "height": 90
        },
        "outputId": "af949723-f21b-4c36-c920-ee713c5862a8"
      },
      "source": [
        "# Visualize a waveform\n",
        "# First 10 seconds of record '105'\n",
        "\n",
        "view_signal = train_ds[12]\n",
        "view_len = sampling_rate*10\n",
        "\n",
        "plt.plot(range(view_len), view_signal.signal[0:view_len])\n",
        "plt.title('Record {}'.format(view_signal.record))\n",
        "print('Beat Types:', view_signal.labels[0:10], '\\n')"
      ],
      "execution_count": null,
      "outputs": [
        {
          "output_type": "stream",
          "text": [
            "Beat Types: ['R' 'R' 'R' 'R' 'R' 'R' 'R' 'R' 'R' 'R'] \n",
            "\n"
          ],
          "name": "stdout"
        },
        {
          "output_type": "display_data",
          "data": {
            "image/png": "[encoded data removed]",
            "text/plain": [
              "<Figure size 1440x288 with 1 Axes>"
            ]
          },
          "metadata": {
            "tags": [],
            "needs_background": "light"
          }
        }
      ]
    },
    {
      "cell_type": "code",
      "metadata": {
        "colab": {
          "base_uri": "https://localhost:8080/"
        },
        "id": "k3ejn94mKCTQ",
        "outputId": "cfc48acd-4f66-4169-9348-0a781032b9d1"
      },
      "source": [
        "# Entire dataset beat distribution\n",
        "print('Dataset Beat Distribution:')\n",
        "total_sum = 0\n",
        "for vc in valid_classes:\n",
        "  sum = 0\n",
        "  for sig_data in train_ds:\n",
        "    for beat_label in sig_data.labels:\n",
        "      if beat_label == vc:\n",
        "        sum += 1\n",
        "        total_sum += 1\n",
        "  print(f'  {vc} - {sum}')\n",
        "print(f'Total: {total_sum}')"
      ],
      "execution_count": null,
      "outputs": [
        {
          "output_type": "stream",
          "text": [
            "Dataset Beat Distribution:\n",
            "  N - 38201\n",
            "  L - 3949\n",
            "  R - 3783\n",
            "  V - 3687\n",
            "  A - 810\n",
            "  / - 2028\n",
            "Total: 52458\n"
          ],
          "name": "stdout"
        }
      ]
    },
    {
      "cell_type": "markdown",
      "metadata": {
        "id": "bC0bW5vJYnIa"
      },
      "source": [
        "# **Feature Extraction**\n",
        "\n",
        "*Note: RR ~ R-peak interval*\n",
        "\n",
        "1.   Discrete Wavelet Transform (DWT)\n",
        "2.   RR Intervals\n",
        "\n",
        "Note: beats with RR not within a certain window most likely have segmentation errors and should be discarded. [1]\n",
        "\n",
        "[1] https://github.com/mondejar/ecg-classification\n",
        "\n",
        "check this out \n",
        "https://medium.com/@andrewtan_36013/electrocardiograms-qrs-detection-using-wavelet-analysis-a1070505efee\n",
        "\n"
      ]
    },
    {
      "cell_type": "code",
      "metadata": {
        "id": "f-h_iLKg92-F"
      },
      "source": [
        "# Helper functions for extracting features from DWT\n",
        "def select_coeffs(coeffs):\n",
        "  features = []\n",
        "  for c in coeffs:\n",
        "    features.append(np.mean(c))\n",
        "    features.append(np.std(c))\n",
        "    features.append(max(c))\n",
        "    features.append(min(c))\n",
        "\n",
        "  return np.array(features)"
      ],
      "execution_count": null,
      "outputs": []
    },
    {
      "cell_type": "code",
      "metadata": {
        "id": "5xkClR0HYOkr"
      },
      "source": [
        "import cv2\n",
        "import pywt\n",
        "import random\n",
        "sampling_rate = 360\n",
        "\n",
        "def extract_features(signal_data):\n",
        "  \"\"\"\n",
        "    Input: Dict containing all information from a \n",
        "    Output: A tuple consisting of a \n",
        "    Description: This function \n",
        "  \"\"\"\n",
        "  r_peaks = signal_data.r_peaks\n",
        "  labels = signal_data.labels\n",
        "  signal = signal_data.signal\n",
        "  leading_buf, lagging_buf = 90, 110\n",
        "  valid_classes = ['N', 'L', 'R', 'V', 'A', '/']\n",
        "\n",
        "  avg_RR = np.mean(np.diff(r_peaks)) # For removal of inter-patient variability\n",
        "  wavelets, intervals_RR, classes = [], [], []\n",
        "  global_RR = 0\n",
        "\n",
        "  # Cycle through all of the beats in the signal\n",
        "  # (Skip the first and last beat)\n",
        "  for i in range(1, len(r_peaks) - 1):\n",
        "\n",
        "    # Skip all invalid classes of beats\n",
        "    if labels[i] not in valid_classes:\n",
        "      continue\n",
        "    \n",
        "    # Normalize the surplus number of normal beats\n",
        "    if labels[i] == 'N':\n",
        "      if random.random() > 0.2:\n",
        "        continue\n",
        "\n",
        "    # ===== Discrete Wavelet Transform =====\n",
        "    coeffs = pywt.wavedec(signal[r_peaks[i] - leading_buf : r_peaks[i] + lagging_buf], wavelet='db2', mode='perdiodization', level=3)[0]\n",
        "\n",
        "    # ======= RR intervals =======\n",
        "    pre_RR = r_peaks[i] - r_peaks[i - 1]\n",
        "    post_RR = r_peaks[i + 1] - r_peaks[i] \n",
        "    local_RR = np.mean(np.diff((r_peaks[max(0,i-10):i + 1])))\n",
        "    global_RR += pre_RR\n",
        "\n",
        "    # Check for segmentation errors:\n",
        "    if local_RR > (2 * sampling_rate) or local_RR < (0.15 < sampling_rate):\n",
        "      continue\n",
        "\n",
        "    wavelets.append(coeffs)\n",
        "    classes.append(labels[i])\n",
        "    intervals_RR.append([pre_RR - avg_RR, post_RR - avg_RR, local_RR - avg_RR])\n",
        "\n",
        "  global_RR = global_RR/len(intervals_RR)\n",
        "  for i in range(len(intervals_RR)):\n",
        "    intervals_RR[i].append(global_RR)\n",
        "\n",
        "\n",
        "  return (wavelets, intervals_RR, classes)"
      ],
      "execution_count": null,
      "outputs": []
    },
    {
      "cell_type": "code",
      "metadata": {
        "id": "UqLOgrxsYmdR",
        "colab": {
          "base_uri": "https://localhost:8080/",
          "height": 584
        },
        "outputId": "a3e86e9c-6699-4b09-fb36-2adef5f9d313"
      },
      "source": [
        "from sklearn.model_selection import train_test_split  # Use for splitting training/validation datasets\n",
        "\n",
        "x1_train, x1_test = [], []\n",
        "x2_train, x2_test = [], []\n",
        "y_train, y_test = [], []\n",
        "\n",
        "# For training set\n",
        "for signal_data in train_ds:\n",
        "  wavelets, intervals_RR, classes = extract_features(signal_data)\n",
        "  x1_train.append(wavelets)\n",
        "  x2_train.append(intervals_RR)\n",
        "  y_train.append(classes)\n",
        "\n",
        "#  ++++++++++++++++++++++++++++++++++++++++++++++++++++++++++++++++++++++++++++++++++\n",
        "# For testing set\n",
        "for signal_data in test_ds:\n",
        "  wavelets, intervals_RR, classes = extract_features(signal_data)\n",
        "  x1_test.append(wavelets)\n",
        "  x2_test.append(intervals_RR)\n",
        "  y_test.append(classes)\n",
        "\n",
        "x1_test = np.concatenate(x1_test, axis=0).astype('float32')\n",
        "x2_test = np.concatenate(x2_test, axis=0).astype('float32')\n",
        "y_test = np.concatenate(y_test, axis=0)\n",
        "y_test = np.array([valid_classes.index(k) for k in y_test]).astype('int64')\n",
        "#  ++++++++++++++++++++++++++++++++++++++++++++++++++++++++++++++++++++++++++++++++++\n",
        "\n",
        "x1_train = np.concatenate(x1_train, axis=0).astype('float32')\n",
        "x2_train = np.concatenate(x2_train, axis=0).astype('float32')\n",
        "y_train = np.concatenate(y_train, axis=0)\n",
        "y_train = np.array([valid_classes.index(k) for k in y_train]).astype('int64')\n",
        "\n",
        "# Validation set\n",
        "x1_train, x1_val, x2_train, x2_val, y_train, y_val = train_test_split(x1_train, \n",
        "                                                                   x2_train, \n",
        "                                                                   y_train, \n",
        "                                                                   test_size=0.1, \n",
        "                                                                   shuffle=True, \n",
        "                                                                   random_state=42,\n",
        "                                                                   stratify=y_train) \n",
        "\n",
        "print(\"Training Size: \", len(y_train))\n",
        "print(\"Validation Size: \", len(y_val))\n",
        "print(\"Testing Size: \", len(y_test))"
      ],
      "execution_count": null,
      "outputs": [
        {
          "output_type": "error",
          "ename": "ValueError",
          "evalue": "ignored",
          "traceback": [
            "\u001b[0;31m---------------------------------------------------------------------------\u001b[0m",
            "\u001b[0;31mAttributeError\u001b[0m                            Traceback (most recent call last)",
            "\u001b[0;32mpywt/_extensions/_pywt.pyx\u001b[0m in \u001b[0;36mpywt._extensions._pywt._Modes.from_object\u001b[0;34m()\u001b[0m\n",
            "\u001b[0;32mpywt/_extensions/_pywt.pyx\u001b[0m in \u001b[0;36mpywt._extensions._pywt._Modes.__getattr__\u001b[0;34m()\u001b[0m\n",
            "\u001b[0;31mAttributeError\u001b[0m: '_Modes' object has no attribute 'perdiodization'",
            "\nDuring handling of the above exception, another exception occurred:\n",
            "\u001b[0;31mValueError\u001b[0m                                Traceback (most recent call last)",
            "\u001b[0;32m<ipython-input-44-aa4ab8476f14>\u001b[0m in \u001b[0;36m<module>\u001b[0;34m()\u001b[0m\n\u001b[1;32m      7\u001b[0m \u001b[0;31m# For training set\u001b[0m\u001b[0;34m\u001b[0m\u001b[0;34m\u001b[0m\u001b[0;34m\u001b[0m\u001b[0m\n\u001b[1;32m      8\u001b[0m \u001b[0;32mfor\u001b[0m \u001b[0msignal_data\u001b[0m \u001b[0;32min\u001b[0m \u001b[0mtrain_ds\u001b[0m\u001b[0;34m:\u001b[0m\u001b[0;34m\u001b[0m\u001b[0;34m\u001b[0m\u001b[0m\n\u001b[0;32m----> 9\u001b[0;31m   \u001b[0mwavelets\u001b[0m\u001b[0;34m,\u001b[0m \u001b[0mintervals_RR\u001b[0m\u001b[0;34m,\u001b[0m \u001b[0mclasses\u001b[0m \u001b[0;34m=\u001b[0m \u001b[0mextract_features\u001b[0m\u001b[0;34m(\u001b[0m\u001b[0msignal_data\u001b[0m\u001b[0;34m)\u001b[0m\u001b[0;34m\u001b[0m\u001b[0;34m\u001b[0m\u001b[0m\n\u001b[0m\u001b[1;32m     10\u001b[0m   \u001b[0mx1_train\u001b[0m\u001b[0;34m.\u001b[0m\u001b[0mappend\u001b[0m\u001b[0;34m(\u001b[0m\u001b[0mwavelets\u001b[0m\u001b[0;34m)\u001b[0m\u001b[0;34m\u001b[0m\u001b[0;34m\u001b[0m\u001b[0m\n\u001b[1;32m     11\u001b[0m   \u001b[0mx2_train\u001b[0m\u001b[0;34m.\u001b[0m\u001b[0mappend\u001b[0m\u001b[0;34m(\u001b[0m\u001b[0mintervals_RR\u001b[0m\u001b[0;34m)\u001b[0m\u001b[0;34m\u001b[0m\u001b[0;34m\u001b[0m\u001b[0m\n",
            "\u001b[0;32m<ipython-input-43-664398fa5ec2>\u001b[0m in \u001b[0;36mextract_features\u001b[0;34m(signal_data)\u001b[0m\n\u001b[1;32m     34\u001b[0m \u001b[0;34m\u001b[0m\u001b[0m\n\u001b[1;32m     35\u001b[0m     \u001b[0;31m# ===== Discrete Wavelet Transform =====\u001b[0m\u001b[0;34m\u001b[0m\u001b[0;34m\u001b[0m\u001b[0;34m\u001b[0m\u001b[0m\n\u001b[0;32m---> 36\u001b[0;31m     \u001b[0mcoeffs\u001b[0m \u001b[0;34m=\u001b[0m \u001b[0mpywt\u001b[0m\u001b[0;34m.\u001b[0m\u001b[0mwavedec\u001b[0m\u001b[0;34m(\u001b[0m\u001b[0msignal\u001b[0m\u001b[0;34m[\u001b[0m\u001b[0mr_peaks\u001b[0m\u001b[0;34m[\u001b[0m\u001b[0mi\u001b[0m\u001b[0;34m]\u001b[0m \u001b[0;34m-\u001b[0m \u001b[0mleading_buf\u001b[0m \u001b[0;34m:\u001b[0m \u001b[0mr_peaks\u001b[0m\u001b[0;34m[\u001b[0m\u001b[0mi\u001b[0m\u001b[0;34m]\u001b[0m \u001b[0;34m+\u001b[0m \u001b[0mlagging_buf\u001b[0m\u001b[0;34m]\u001b[0m\u001b[0;34m,\u001b[0m \u001b[0mwavelet\u001b[0m\u001b[0;34m=\u001b[0m\u001b[0;34m'db2'\u001b[0m\u001b[0;34m,\u001b[0m \u001b[0mmode\u001b[0m\u001b[0;34m=\u001b[0m\u001b[0;34m'perdiodization'\u001b[0m\u001b[0;34m,\u001b[0m \u001b[0mlevel\u001b[0m\u001b[0;34m=\u001b[0m\u001b[0;36m3\u001b[0m\u001b[0;34m)\u001b[0m\u001b[0;34m[\u001b[0m\u001b[0;36m0\u001b[0m\u001b[0;34m]\u001b[0m\u001b[0;34m\u001b[0m\u001b[0;34m\u001b[0m\u001b[0m\n\u001b[0m\u001b[1;32m     37\u001b[0m \u001b[0;34m\u001b[0m\u001b[0m\n\u001b[1;32m     38\u001b[0m     \u001b[0;31m# ======= RR intervals =======\u001b[0m\u001b[0;34m\u001b[0m\u001b[0;34m\u001b[0m\u001b[0;34m\u001b[0m\u001b[0m\n",
            "\u001b[0;32m/usr/local/lib/python3.7/dist-packages/pywt/_multilevel.py\u001b[0m in \u001b[0;36mwavedec\u001b[0;34m(data, wavelet, mode, level, axis)\u001b[0m\n\u001b[1;32m    101\u001b[0m     \u001b[0ma\u001b[0m \u001b[0;34m=\u001b[0m \u001b[0mdata\u001b[0m\u001b[0;34m\u001b[0m\u001b[0;34m\u001b[0m\u001b[0m\n\u001b[1;32m    102\u001b[0m     \u001b[0;32mfor\u001b[0m \u001b[0mi\u001b[0m \u001b[0;32min\u001b[0m \u001b[0mrange\u001b[0m\u001b[0;34m(\u001b[0m\u001b[0mlevel\u001b[0m\u001b[0;34m)\u001b[0m\u001b[0;34m:\u001b[0m\u001b[0;34m\u001b[0m\u001b[0;34m\u001b[0m\u001b[0m\n\u001b[0;32m--> 103\u001b[0;31m         \u001b[0ma\u001b[0m\u001b[0;34m,\u001b[0m \u001b[0md\u001b[0m \u001b[0;34m=\u001b[0m \u001b[0mdwt\u001b[0m\u001b[0;34m(\u001b[0m\u001b[0ma\u001b[0m\u001b[0;34m,\u001b[0m \u001b[0mwavelet\u001b[0m\u001b[0;34m,\u001b[0m \u001b[0mmode\u001b[0m\u001b[0;34m,\u001b[0m \u001b[0maxis\u001b[0m\u001b[0;34m)\u001b[0m\u001b[0;34m\u001b[0m\u001b[0;34m\u001b[0m\u001b[0m\n\u001b[0m\u001b[1;32m    104\u001b[0m         \u001b[0mcoeffs_list\u001b[0m\u001b[0;34m.\u001b[0m\u001b[0mappend\u001b[0m\u001b[0;34m(\u001b[0m\u001b[0md\u001b[0m\u001b[0;34m)\u001b[0m\u001b[0;34m\u001b[0m\u001b[0;34m\u001b[0m\u001b[0m\n\u001b[1;32m    105\u001b[0m \u001b[0;34m\u001b[0m\u001b[0m\n",
            "\u001b[0;32m/usr/local/lib/python3.7/dist-packages/pywt/_dwt.py\u001b[0m in \u001b[0;36mdwt\u001b[0;34m(data, wavelet, mode, axis)\u001b[0m\n\u001b[1;32m    171\u001b[0m     \u001b[0mdt\u001b[0m \u001b[0;34m=\u001b[0m \u001b[0m_check_dtype\u001b[0m\u001b[0;34m(\u001b[0m\u001b[0mdata\u001b[0m\u001b[0;34m)\u001b[0m\u001b[0;34m\u001b[0m\u001b[0;34m\u001b[0m\u001b[0m\n\u001b[1;32m    172\u001b[0m     \u001b[0mdata\u001b[0m \u001b[0;34m=\u001b[0m \u001b[0mnp\u001b[0m\u001b[0;34m.\u001b[0m\u001b[0masarray\u001b[0m\u001b[0;34m(\u001b[0m\u001b[0mdata\u001b[0m\u001b[0;34m,\u001b[0m \u001b[0mdtype\u001b[0m\u001b[0;34m=\u001b[0m\u001b[0mdt\u001b[0m\u001b[0;34m,\u001b[0m \u001b[0morder\u001b[0m\u001b[0;34m=\u001b[0m\u001b[0;34m'C'\u001b[0m\u001b[0;34m)\u001b[0m\u001b[0;34m\u001b[0m\u001b[0;34m\u001b[0m\u001b[0m\n\u001b[0;32m--> 173\u001b[0;31m     \u001b[0mmode\u001b[0m \u001b[0;34m=\u001b[0m \u001b[0mModes\u001b[0m\u001b[0;34m.\u001b[0m\u001b[0mfrom_object\u001b[0m\u001b[0;34m(\u001b[0m\u001b[0mmode\u001b[0m\u001b[0;34m)\u001b[0m\u001b[0;34m\u001b[0m\u001b[0;34m\u001b[0m\u001b[0m\n\u001b[0m\u001b[1;32m    174\u001b[0m     \u001b[0mwavelet\u001b[0m \u001b[0;34m=\u001b[0m \u001b[0m_as_wavelet\u001b[0m\u001b[0;34m(\u001b[0m\u001b[0mwavelet\u001b[0m\u001b[0;34m)\u001b[0m\u001b[0;34m\u001b[0m\u001b[0;34m\u001b[0m\u001b[0m\n\u001b[1;32m    175\u001b[0m \u001b[0;34m\u001b[0m\u001b[0m\n",
            "\u001b[0;32mpywt/_extensions/_pywt.pyx\u001b[0m in \u001b[0;36mpywt._extensions._pywt._Modes.from_object\u001b[0;34m()\u001b[0m\n",
            "\u001b[0;31mValueError\u001b[0m: Unknown mode name 'perdiodization'."
          ]
        }
      ]
    },
    {
      "cell_type": "code",
      "metadata": {
        "id": "xG7kRCs7zqS-"
      },
      "source": [
        "from imblearn.under_sampling import RandomUnderSampler\n",
        "\n",
        "# Undersample the testing dataset\n",
        "def sampling_strategy(n_samples):\n",
        "    #target_classes_all = y.value_counts().index\n",
        "    targets = range(len(valid_classes))\n",
        "    sampling_strategy = {}\n",
        "    for target in targets:\n",
        "        sampling_strategy[target] = n_samples\n",
        "    return sampling_strategy\n",
        "\n",
        "undersample = RandomUnderSampler(sampling_strategy=sampling_strategy(500), \n",
        "                                 random_state = 42)\n",
        "\n",
        "# x1_test, _ = undersample.fit_resample(x1_test, y_test)\n",
        "# x2_test, y_test = undersample.fit_resample(x2_test, y_test)\n",
        "x1_test, _ = undersample.fit_resample(x1_train, y_train)\n",
        "x2_test, y_test = undersample.fit_resample(x2_train, y_train)"
      ],
      "execution_count": null,
      "outputs": []
    },
    {
      "cell_type": "code",
      "metadata": {
        "id": "fjOlHM9Ke_9-"
      },
      "source": [
        "train_size = len(y_train)\n",
        "val_size = len(y_val)\n",
        "test_size = len(y_test)\n",
        "\n",
        "print(f'Size of Training Dataset: {train_size}')\n",
        "print('Distribution:')\n",
        "for vc in valid_classes:\n",
        "  sum = 0\n",
        "  for beat_label in y_train:\n",
        "    if valid_classes[beat_label] == vc:\n",
        "      sum += 1\n",
        "  print(f'  {vc} - {sum}')\n",
        "\n",
        "print(f'\\nSize of Validation Dataset: {val_size}')\n",
        "print('Distribution:')\n",
        "for vc in valid_classes:\n",
        "  sum = 0\n",
        "  for beat_label in y_val:\n",
        "    if valid_classes[beat_label] == vc:\n",
        "      sum += 1\n",
        "  print(f'  {vc} - {sum}')\n",
        "\n",
        "print(f'\\nSize of Testing Dataset: {test_size}')\n",
        "# Training dataset distribution\n",
        "print('Distribution:')\n",
        "for vc in valid_classes:\n",
        "  sum = 0\n",
        "  for beat_label in y_test:\n",
        "    if valid_classes[beat_label] == vc:\n",
        "      sum += 1\n",
        "  print(f'  {vc} - {sum}')"
      ],
      "execution_count": null,
      "outputs": []
    },
    {
      "cell_type": "markdown",
      "metadata": {
        "id": "MCW5F6HZO8GJ"
      },
      "source": [
        "# **FFN**"
      ]
    },
    {
      "cell_type": "markdown",
      "metadata": {
        "id": "wlR5g63Bpa5F"
      },
      "source": [
        "Helpful References:\n",
        "\n",
        "https://hub.packtpub.com/feedforward-networks-tensorflow/\n",
        "\n",
        "https://gist.github.com/vinhkhuc/e53a70f9e5c3f55852b0\n",
        "\n",
        "https://gist.github.com/Simsso/83fd5bf92c32d955e91ff4da4cfa48e9\n"
      ]
    },
    {
      "cell_type": "markdown",
      "metadata": {
        "id": "NwZARFjzA7hB"
      },
      "source": [
        "**Keras Model**\n",
        "\n"
      ]
    },
    {
      "cell_type": "code",
      "metadata": {
        "id": "tkisUKdtrfg0"
      },
      "source": [
        "\"\"\"\n",
        "  FNN Model\n",
        "  Libraries used:\n",
        "    -Tensorflow\n",
        "    -Keras\n",
        "  Description: the keras library makes it much easier to build a readable \n",
        "    neural network. Here we have constructed a model that takes in two\n",
        "    feature sets, merges them together, then passes through 4 dense layers\n",
        "    of decreasing sizes. Each dense layer uses the relu activation function and\n",
        "    is followed by a dropout layer. The output layer uses a signmoid activation\n",
        "    function.\n",
        "\"\"\"\n",
        "\n",
        "import tensorflow as tf\n",
        "from keras.models import Model\n",
        "from keras.layers import *\n",
        "\n",
        "# Default learning rate of the Adam optimizer is 10e-4\n",
        "learning_rate = 0.001\n",
        "num_classes = len(valid_classes)\n",
        "\n",
        "# Input Layer\n",
        "input1 = Input(x1_train.shape[1])\n",
        "input2 = Input(x2_train.shape[1])\n",
        "\n",
        "# Merge Inputs\n",
        "merged = Concatenate()([input1, input2])\n",
        "\n",
        "# Dense Layer 1\n",
        "dense1 = Dense(24, activation='relu')(merged)\n",
        "dropout1 = Dropout(rate = 0.1)(dense1)\n",
        "\n",
        "# Dense Layer 2\n",
        "dense2 = Dense(64, activation='relu')(dropout1)\n",
        "dropout2 = Dropout(rate = 0.1)(dense2)\n",
        "\n",
        "# Dense Layer 4\n",
        "dense3 = Dense(24, activation='relu')(dropout2)\n",
        "dropout3 = Dropout(rate = 0.1)(dense3)\n",
        "\n",
        "# Output Layer\n",
        "output = Dense(num_classes, activation='softmax')(dropout3)\n",
        "\n",
        "model = Model(inputs=[input1, input2], outputs=output)\n",
        "model.summary()\n",
        "\n",
        "model.compile(\n",
        "    loss = 'categorical_crossentropy', \n",
        "    optimizer = tf.keras.optimizers.Adam(learning_rate=learning_rate), \n",
        "    metrics = ['accuracy']\n",
        "  )\n",
        "\n",
        "# Print the models flow diagram\n",
        "tf.keras.utils.plot_model(model, to_file='model.png', show_shapes=True)"
      ],
      "execution_count": null,
      "outputs": []
    },
    {
      "cell_type": "markdown",
      "metadata": {
        "id": "m5xd4K8mCUh6"
      },
      "source": [
        "# **Training**"
      ]
    },
    {
      "cell_type": "code",
      "metadata": {
        "id": "IJGfS8XnhyxF"
      },
      "source": [
        "y_train = tf.keras.utils.to_categorical(y_train, num_classes)\n",
        "y_val = tf.keras.utils.to_categorical(y_val, num_classes)\n",
        "y_test = tf.keras.utils.to_categorical(y_test, num_classes)"
      ],
      "execution_count": null,
      "outputs": []
    },
    {
      "cell_type": "code",
      "metadata": {
        "id": "692BD8jsD4Cu"
      },
      "source": [
        "# Custom metrics adapted from: https://www.sabinasz.net/unbalanced-classes-machine-learning/\n",
        "# from keras import backend as K\n",
        "\n",
        "# def sensitivity(y_true, y_pred):\n",
        "#     true_positives = K.sum(K.round(K.clip(y_true * y_pred, 0, 1)))\n",
        "#     possible_positives = K.sum(K.round(K.clip(y_true, 0, 1)))\n",
        "#     return true_positives / (possible_positives + K.epsilon())\n",
        "\n",
        "# def specificity(y_true, y_pred):\n",
        "#     true_negatives = K.sum(K.round(K.clip((1-y_true) * (1-y_pred), 0, 1)))\n",
        "#     possible_negatives = K.sum(K.round(K.clip(1-y_true, 0, 1)))\n",
        "#     return true_negatives / (possible_negatives + K.epsilon())"
      ],
      "execution_count": null,
      "outputs": []
    },
    {
      "cell_type": "code",
      "metadata": {
        "id": "nSCRzYNL7b6l"
      },
      "source": [
        "\"\"\"\n",
        "  Description: Train the FNN using the training and validation datasets \n",
        "    defined earlier. Stores relevant training history in memory for later \n",
        "    analysis.\n",
        "\n",
        "  Parameters:\n",
        "    epochs = 500\n",
        "    batch size = 100\n",
        "\"\"\"\n",
        "epochs = 250\n",
        "batch_size = 256\n",
        "\n",
        "history = model.fit([x1_train, x2_train], \n",
        "                    np.array(y_train), \n",
        "                    shuffle=True, \n",
        "                    epochs=epochs, \n",
        "                    batch_size=batch_size,\n",
        "                    validation_data = ([x1_val, x2_val], y_val))\n",
        "                    "
      ],
      "execution_count": null,
      "outputs": []
    },
    {
      "cell_type": "code",
      "metadata": {
        "id": "WK5tHRKwx7N8"
      },
      "source": [
        "# Plot training loss, validation loss\n",
        "fig, axs = plt.subplots(1,2,figsize=(16,8))\n",
        "axs[0].plot(history.history['loss'])\n",
        "axs[0].plot(history.history['val_loss'])\n",
        "axs[0].legend(['Training Loss','Validation Loss'])\n",
        "axs[0].set_title('Loss')\n",
        "axs[0].set(xlabel='Epoch', ylabel='Loss')\n",
        "\n",
        "# Plot training accuracy, validation accuracy\n",
        "axs[1].plot(history.history['accuracy'])\n",
        "axs[1].plot(history.history['val_accuracy'])\n",
        "axs[1].legend(['Training Accuracy','Validation Accuracy'])\n",
        "axs[1].set_title('Accuracy')\n",
        "axs[1].set(xlabel='Epoch', ylabel='Accuracy')"
      ],
      "execution_count": null,
      "outputs": []
    },
    {
      "cell_type": "code",
      "metadata": {
        "id": "sGoimwCl05sQ"
      },
      "source": [
        "# Plot training loss\n",
        "plt.figure(0, figsize=(8, 8))\n",
        "plt.plot(history.history['loss'])\n",
        "plt.legend(['Training Loss'])\n",
        "plt.title('Loss')\n",
        "plt.xlabel('Epoch')\n",
        "plt.ylabel('Loss')"
      ],
      "execution_count": null,
      "outputs": []
    },
    {
      "cell_type": "code",
      "metadata": {
        "id": "fFSdS1BpmAue"
      },
      "source": [
        "plt.figure(1, figsize=(8, 8))\n",
        "plt.plot(history.history['accuracy'])\n",
        "plt.legend(['Training Accuracy'])\n",
        "plt.title('Accuracy')\n",
        "plt.xlabel('Epoch')\n",
        "plt.ylabel('Accuracy')"
      ],
      "execution_count": null,
      "outputs": []
    },
    {
      "cell_type": "markdown",
      "metadata": {
        "id": "_UkLubSkwu7s"
      },
      "source": [
        "# **Evaluation**\n",
        "**Determine important performance metrics of the model**"
      ]
    },
    {
      "cell_type": "code",
      "metadata": {
        "id": "g6HzCf4S-Ybl"
      },
      "source": [
        "# Print the accuracy of the Training, Validation, and Testing datasets\n",
        "results = model.evaluate([x1_train, x2_train], y_train, verbose=0)\n",
        "print('Training Accuracy: %.2f %%'%(results[1]*100))\n",
        "results = model.evaluate([x1_val, x2_val], y_val, verbose=0)\n",
        "print('Validation Accuracy: %.2f %%'%(results[1]*100))\n",
        "results = model.evaluate([x1_test, x2_test], y_test, verbose=0)\n",
        "print('Testing Accuracy: %.2f %%'%(results[1]*100))\n",
        "print(results)"
      ],
      "execution_count": null,
      "outputs": []
    },
    {
      "cell_type": "markdown",
      "metadata": {
        "id": "Q9q3Vb--xX-v"
      },
      "source": [
        "**Confusion Matrices**"
      ]
    },
    {
      "cell_type": "code",
      "metadata": {
        "id": "sKIbFR8-ZAks"
      },
      "source": [
        "# Print the Confusion Matrix of the Training, Validation, and Testing datasets\n",
        "from sklearn import metrics\n",
        "from sklearn.metrics import confusion_matrix\n",
        "\n",
        "# === Training Dataset ===\n",
        "y_train_actual = np.argmax(y_train, axis=1)  # Convert back from categorical array\n",
        "y_train_pred = model.predict([x1_train, x2_train])\n",
        "y_train_pred = np.argmax(y_train_pred, axis=1)\n",
        "y_train_conf_matrix = confusion_matrix(y_train_actual, y_train_pred)\n",
        "print('Training Confusion Matrix:\\n')\n",
        "print(y_train_conf_matrix)\n",
        "\n",
        "# === Validation Dataset ===\n",
        "y_val_actual = np.argmax(y_val, axis=1)  # Convert back from categorical array\n",
        "y_val_pred = model.predict([x1_val, x2_val])\n",
        "y_val_pred = np.argmax(y_val_pred, axis=1)\n",
        "y_val_conf_matrix = confusion_matrix(y_val_actual, y_val_pred)\n",
        "print('\\n\\nValidation Confusion Matrix:\\n')\n",
        "print(y_val_conf_matrix)\n",
        "\n",
        "# === Testing Dataset ===\n",
        "y_test_actual = np.argmax(y_test, axis=1)\n",
        "y_test_pred = model.predict([x1_test, x2_test])\n",
        "y_test_pred = np.argmax(y_test_pred, axis=1)\n",
        "y_test_conf_matrix = confusion_matrix(y_test_actual, y_test_pred)\n",
        "print('\\n\\nTesting Confusion Matrix:\\n')\n",
        "print(y_test_conf_matrix)"
      ],
      "execution_count": null,
      "outputs": []
    },
    {
      "cell_type": "markdown",
      "metadata": {
        "id": "FC3oXZFN07LL"
      },
      "source": [
        "**Class Accuracy & Classification Report**"
      ]
    },
    {
      "cell_type": "code",
      "metadata": {
        "id": "5GHRY4nX1i0h"
      },
      "source": [
        "\"\"\"\n",
        "  Description: Class-by-class method for determining accuracy. The following \n",
        "    will compute the training, validation, and testing accuracy of each beat.\n",
        "\"\"\"\n",
        "# Training\n",
        "print(\"Training Dataset Accuracies:\")\n",
        "for beat_type in range(len(valid_classes)):\n",
        "  sum_true, sum_all = 0, 0\n",
        "  for i in range(len(y_train_pred)):\n",
        "    if y_train_actual[i] == beat_type:\n",
        "      sum_all += 1 \n",
        "      if y_train_pred[i] == y_train_actual[i]:\n",
        "        sum_true += 1\n",
        "  avg = sum_true / sum_all\n",
        "  print(f' {valid_classes[beat_type]} - {avg:.4f}')\n",
        "\n",
        "# Validation\n",
        "print(\"\\nValidation Dataset Accuracies:\")\n",
        "for beat_type in range(len(valid_classes)):\n",
        "  sum_true, sum_all = 0, 0\n",
        "  for i in range(len(y_val_pred)):\n",
        "    if y_val_actual[i] == beat_type:\n",
        "      sum_all += 1 \n",
        "      if y_val_pred[i] == y_val_actual[i]:\n",
        "        sum_true += 1\n",
        "  avg = sum_true / sum_all\n",
        "  print(f' {valid_classes[beat_type]} - {avg:.4f}')\n",
        "\n",
        "# Testing\n",
        "print(\"\\nTesting Dataset Accuracies:\")\n",
        "for beat_type in range(len(valid_classes)):\n",
        "  sum_true, sum_all = 0, 0\n",
        "  for i in range(len(y_test_pred)):\n",
        "    if y_test_actual[i] == beat_type:\n",
        "      sum_all += 1 \n",
        "      if y_test_pred[i] == y_test_actual[i]:\n",
        "        sum_true += 1\n",
        "  avg = sum_true / sum_all\n",
        "  print(f' {valid_classes[beat_type]} - {avg:.4f}')\n",
        "\n",
        "\n",
        "# def per_class_accuracy(y_preds,y_true,class_labels):\n",
        "#     return [np.mean([\n",
        "#         (y_true[pred_idx] == np.round(y_pred)) for pred_idx, y_pred in enumerate(y_preds) \n",
        "#       if y_true[pred_idx] == int(class_label)\n",
        "#                     ]) for class_label in class_labels]\n",
        "\n",
        "# def update_val_history():\n",
        "#     [val_history[class_label].append(np.mean( np.asarray(temp_history).T[class_idx] )\n",
        "#                              ) for class_idx, class_label in enumerate(class_labels)]"
      ],
      "execution_count": null,
      "outputs": []
    },
    {
      "cell_type": "code",
      "metadata": {
        "id": "gaEkCget3zyq"
      },
      "source": [
        "\"\"\"\n",
        "  Description: Class-by-class method for determining specificity. The following \n",
        "    will compute the training, validation, and testing specificity of each beat.\n",
        "\"\"\"\n",
        "\n",
        "# Training\n",
        "print(\"Training Dataset Specificities:\")\n",
        "for beat_type in range(len(valid_classes)):\n",
        "  row = y_train_conf_matrix[beat_type]\n",
        "  col = y_train_conf_matrix[:,beat_type]\n",
        "  FP = np.sum(row[:beat_type]) + np.sum(row[beat_type+1:])\n",
        "  TN = len(y_train) - np.sum(col) - FP\n",
        "  specificity = TN / (TN+FP)\n",
        "  print(f' {valid_classes[beat_type]} - {specificity:.4f}')\n",
        "\n",
        "# Validation\n",
        "print(\"\\nValidation Dataset Specificities:\")\n",
        "for beat_type in range(len(valid_classes)):\n",
        "  row = y_val_conf_matrix[beat_type]\n",
        "  col = y_val_conf_matrix[:,beat_type]\n",
        "  FP = np.sum(row[:beat_type]) + np.sum(row[beat_type+1:])\n",
        "  TN = len(y_val) - np.sum(col) - FP\n",
        "  specificity = TN / (TN+FP)\n",
        "  print(f' {valid_classes[beat_type]} - {specificity:.4f}')\n",
        "\n",
        "# Testing\n",
        "print(\"\\nTesting Dataset Specificities:\")\n",
        "for beat_type in range(len(valid_classes)):\n",
        "  row = y_test_conf_matrix[beat_type]\n",
        "  col = y_test_conf_matrix[:,beat_type]\n",
        "  FP = np.sum(row[:beat_type]) + np.sum(row[beat_type+1:])\n",
        "  TN = len(y_test) - np.sum(col) - FP\n",
        "  specificity = TN / (TN+FP)\n",
        "  print(f' {valid_classes[beat_type]} - {specificity:.4f}')\n"
      ],
      "execution_count": null,
      "outputs": []
    },
    {
      "cell_type": "code",
      "metadata": {
        "id": "yPiaawZfizon"
      },
      "source": [
        "# Print a classification report for the Training, Validation, and Testing datasets\n",
        "from sklearn.metrics import classification_report\n",
        "\n",
        "# y_pred_train_bool = np.argmax(y_pred, axis=1)\n",
        "print(\"\\n\\n\\t\\t\\t===| Training |===\\n\")\n",
        "print(classification_report(y_train_actual, y_train_pred, \n",
        "                            target_names=valid_classes, digits=4))\n",
        "\n",
        "# y_val_pred_bool = np.argmax(y_pred, axis=1)\n",
        "print(\"\\n\\n\\t\\t\\t===| Validation |===\\n\")\n",
        "print(classification_report(y_val_actual, y_val_pred, \n",
        "                            target_names=valid_classes, digits=4))\n",
        "\n",
        "# y_test_pred_bool = np.argmax(y_pred, axis=1)\n",
        "print(\"\\n\\n\\t\\t\\t===| TESTING |===\\n\")\n",
        "print(classification_report(y_test_actual, y_test_pred, \n",
        "                            target_names=valid_classes, digits=4))"
      ],
      "execution_count": null,
      "outputs": []
    }
  ]
}